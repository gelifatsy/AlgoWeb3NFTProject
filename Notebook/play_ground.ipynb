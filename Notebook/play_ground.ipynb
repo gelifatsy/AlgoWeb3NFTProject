{
 "cells": [
  {
   "cell_type": "code",
   "execution_count": 1,
   "metadata": {},
   "outputs": [
    {
     "name": "stdout",
     "output_type": "stream",
     "text": [
      "Base64 Private Key: iqpdRWkZdtd4eEgVmtHCjwJLISnnZQoK45TKeRw9ze/vrLsUrU7569mDp1BekWK4gui5uRf1/bB/OLggrParcQ==\n",
      "Public Algorand Address: 56WLWFFNJ346XWMDU5IF5ELCXCBORONZC7273MD7HC4CBLHWVNYRJNYUZY\n",
      "\n"
     ]
    }
   ],
   "source": [
    "from algosdk import account\n",
    "private_key, public_address = account.generate_account()\n",
    "print(\"Base64 Private Key: {}\\nPublic Algorand Address: {}\\n\".format(private_key, public_address))\n",
    "\n"
   ]
  },
  {
   "cell_type": "code",
   "execution_count": 2,
   "metadata": {},
   "outputs": [
    {
     "name": "stdout",
     "output_type": "stream",
     "text": [
      "Mnemonic: eyebrow issue pencil notable umbrella cupboard sense embody dress edit thumb cigar noodle embark deer grass donor method engine original decline exercise lazy abstract blast\n"
     ]
    }
   ],
   "source": [
    "from algosdk import mnemonic\n",
    "mnemonic = mnemonic.from_private_key(private_key)\n",
    "print(\"Mnemonic: {}\".format(mnemonic))\n"
   ]
  },
  {
   "cell_type": "code",
   "execution_count": 6,
   "metadata": {},
   "outputs": [
    {
     "name": "stdout",
     "output_type": "stream",
     "text": [
      "Account 1\n",
      "YMPJUJ3FFIC2EXXJDKKIFUJPR7O4IISWQ4YHLK55AZQZGTR7RFAYASDXGM\n",
      "Account 2\n",
      "WIRSNEFRDLHGGMEN6PIV5EGKX6ACYCPGNLW7NVD2HFYPJCMSURTZRR6JAM\n",
      "Account 3\n",
      "R5OMVZP3YVI6VVSQ2LAI2DCS4GEAIUQV4CTYAV3Z6UBE6KFJHD5W7B4VDU\n",
      "\n",
      "Copy off accounts above and add TestNet Algo funds using the TestNet Dispenser at https://bank.testnet.algorand.network/\n",
      "Copy off the following mnemonic code for use later\n",
      "\n",
      "mnemonic1 = \"path salmon hour cheese basic cliff distance music pen target plastic peanut clog vintage main speed ceiling walk dynamic cheap genre member tiger absent fall\"\n",
      "mnemonic2 = \"stand still scan elegant intact eager raw amused luggage critic crane bronze feel kick suspect common chief cheese obscure desert alley lyrics april able outside\"\n",
      "mnemonic3 = \"oxygen sleep neutral explain clean sunset network puppy piano tunnel warrior orphan canal clarify height infant lazy rate expire sting advance clinic curtain able buzz\"\n"
     ]
    }
   ],
   "source": [
    "import json\n",
    "from algosdk import account, mnemonic\n",
    "\n",
    "# Generate the first Algorand account\n",
    "acct = account.generate_account()\n",
    "address1 = acct[1]\n",
    "print(\"Account 1\")\n",
    "print(address1)\n",
    "mnemonic1 = mnemonic.from_private_key(acct[0])\n",
    "\n",
    "# Generate the second Algorand account\n",
    "print(\"Account 2\")\n",
    "acct = account.generate_account()\n",
    "address2 = acct[1]\n",
    "print(address2)\n",
    "mnemonic2 = mnemonic.from_private_key(acct[0])\n",
    "\n",
    "# Generate the third Algorand account\n",
    "print(\"Account 3\")\n",
    "acct = account.generate_account()\n",
    "address3 = acct[1]\n",
    "print(address3)\n",
    "mnemonic3 = mnemonic.from_private_key(acct[0])\n",
    "\n",
    "# Display instructions to copy the account addresses for adding TestNet Algo funds\n",
    "print (\"\")\n",
    "print(\"Copy off accounts above and add TestNet Algo funds using the TestNet Dispenser at https://bank.testnet.algorand.network/\")\n",
    "print(\"Copy off the following mnemonic code for use later\")\n",
    "print(\"\")\n",
    "# Display the mnemonics for later use\n",
    "print(\"mnemonic1 = \\\"{}\\\"\".format(mnemonic1))\n",
    "print(\"mnemonic2 = \\\"{}\\\"\".format(mnemonic2))\n",
    "print(\"mnemonic3 = \\\"{}\\\"\".format(mnemonic3))\n"
   ]
  },
  {
   "cell_type": "code",
   "execution_count": 8,
   "metadata": {},
   "outputs": [
    {
     "name": "stdout",
     "output_type": "stream",
     "text": [
      "Account balance: 0 microAlgos\n",
      "\n",
      "{\n",
      "  \"address\": \"R5OMVZP3YVI6VVSQ2LAI2DCS4GEAIUQV4CTYAV3Z6UBE6KFJHD5W7B4VDU\",\n",
      "  \"amount\": 0,\n",
      "  \"amount-without-pending-rewards\": 0,\n",
      "  \"apps-local-state\": [],\n",
      "  \"apps-total-schema\": {\n",
      "    \"num-byte-slice\": 0,\n",
      "    \"num-uint\": 0\n",
      "  },\n",
      "  \"assets\": [],\n",
      "  \"created-apps\": [],\n",
      "  \"created-assets\": [],\n",
      "  \"min-balance\": 100000,\n",
      "  \"pending-rewards\": 0,\n",
      "  \"reward-base\": 0,\n",
      "  \"rewards\": 0,\n",
      "  \"round\": 5625,\n",
      "  \"status\": \"Offline\",\n",
      "  \"total-apps-opted-in\": 0,\n",
      "  \"total-assets-opted-in\": 0,\n",
      "  \"total-created-apps\": 0,\n",
      "  \"total-created-assets\": 0\n",
      "}\n"
     ]
    }
   ],
   "source": [
    "from algosdk.v2client import algod\n",
    "\n",
    "def first_transaction_example(private_key, my_address):\n",
    "    algod_address = \"http://localhost:4001\"\n",
    "    algod_token = \"aaaaaaaaaaaaaaaaaaaaaaaaaaaaaaaaaaaaaaaaaaaaaaaaaaaaaaaaaaaaaaaa\"\n",
    "    algod_client = algod.AlgodClient(algod_token, algod_address)\n",
    "    account_info = algod_client.account_info(my_address)\n",
    "    print(\"Account balance: {} microAlgos\".format(account_info.get('amount')) + \"\\n\")\n",
    "    print(json.dumps(account_info, indent=2))\n",
    "\n",
    "first_transaction_example(acct[0],address3)"
   ]
  },
  {
   "cell_type": "code",
   "execution_count": 9,
   "metadata": {},
   "outputs": [
    {
     "name": "stdout",
     "output_type": "stream",
     "text": [
      "Account balance: 0 microAlgos\n",
      "\n"
     ]
    }
   ],
   "source": [
    "def first_transaction_example(private_key, my_address):\n",
    "    algod_address = \"http://localhost:4001\"\n",
    "    algod_token = \"aaaaaaaaaaaaaaaaaaaaaaaaaaaaaaaaaaaaaaaaaaaaaaaaaaaaaaaaaaaaaaaa\"\n",
    "    algod_client = algod.AlgodClient(algod_token, algod_address)\n",
    "    account_info = algod_client.account_info(my_address)\n",
    "    print(\"Account balance: {} microAlgos\".format(account_info.get('amount')) + \"\\n\")\n",
    "    # print(json.dumps(account_info, indent=2))\n",
    "\n",
    "first_transaction_example(acct[0],address3)"
   ]
  },
  {
   "cell_type": "code",
   "execution_count": 11,
   "metadata": {},
   "outputs": [
    {
     "name": "stdout",
     "output_type": "stream",
     "text": [
      "Account 1\n",
      "TH23PMYSDGR2XULOJKJ5GHDPDWIRNSQO32U63XXPEXALNAK4YKBV3GMOVU\n",
      "Account 2\n",
      "QDFVSVKMJCK6ERS2MIB2NJIIGWYTSD4UNND5LRBJTW2UG7P7T3OBRCFR3U\n",
      "Account 3\n",
      "JMBN7KTH5T6DM7AHVGEOFT7HZIZJLXK5FXJDAJH37LVOR4E6AOLZ5BGVSY\n",
      "\n",
      "Copy off accounts above and add TestNet Algo funds using the TestNet Dispenser at https://bank.testnet.algorand.network/\n",
      "copy off the following mnemonic code for use later\n",
      "\n",
      "mnemonic1 = \"later about topple cruel book tag sleep lobster squeeze asthma gentle panda budget auction champion walk baby delay around mansion glass fetch clog abandon faculty\"\n",
      "mnemonic2 = \"buyer brick foot blue spin online sunset exist old strong kitchen age surround cart antique chat much certain chat cream inhale coyote tent absent question\"\n",
      "mnemonic3 = \"worth since apology planet ignore dress member quiz fetch chief divide copy pledge taxi film hole crane atom surprise trust transfer gym all abstract blush\"\n"
     ]
    }
   ],
   "source": [
    "import json\n",
    "from algosdk import account, mnemonic\n",
    "\n",
    "acct = account.generate_account()\n",
    "address1 = acct[1]\n",
    "print(\"Account 1\")\n",
    "print(address1)\n",
    "mnemonic1 = mnemonic.from_private_key(acct[0])\n",
    "\n",
    "print(\"Account 2\")\n",
    "acct = account.generate_account()\n",
    "address2 = acct[1]\n",
    "print(address2)\n",
    "mnemonic2 = mnemonic.from_private_key(acct[0])\n",
    "\n",
    "print(\"Account 3\")\n",
    "acct = account.generate_account()\n",
    "address3 = acct[1]\n",
    "print(address3)\n",
    "mnemonic3 = mnemonic.from_private_key(acct[0])\n",
    "print (\"\")\n",
    "print(\"Copy off accounts above and add TestNet Algo funds using the TestNet Dispenser at https://bank.testnet.algorand.network/\")\n",
    "print(\"copy off the following mnemonic code for use later\")\n",
    "print(\"\")\n",
    "print(\"mnemonic1 = \\\"{}\\\"\".format(mnemonic1))\n",
    "print(\"mnemonic2 = \\\"{}\\\"\".format(mnemonic2))\n",
    "print(\"mnemonic3 = \\\"{}\\\"\".format(mnemonic3))"
   ]
  },
  {
   "cell_type": "code",
   "execution_count": null,
   "metadata": {},
   "outputs": [],
   "source": []
  }
 ],
 "metadata": {
  "kernelspec": {
   "display_name": "web3",
   "language": "python",
   "name": "python3"
  },
  "language_info": {
   "codemirror_mode": {
    "name": "ipython",
    "version": 3
   },
   "file_extension": ".py",
   "mimetype": "text/x-python",
   "name": "python",
   "nbconvert_exporter": "python",
   "pygments_lexer": "ipython3",
   "version": "3.8.10"
  }
 },
 "nbformat": 4,
 "nbformat_minor": 2
}
