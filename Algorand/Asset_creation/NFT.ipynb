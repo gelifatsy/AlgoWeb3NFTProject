{
 "cells": [
  {
   "cell_type": "code",
   "execution_count": null,
   "metadata": {},
   "outputs": [],
   "source": [
    "https://ipfs.io/ipfs/QmRkePdXa4F15Pr234imUR1knjDccWDSN4WgPjoivfd3vJ"
   ]
  },
  {
   "cell_type": "markdown",
   "metadata": {},
   "source": [
    "NFT creation"
   ]
  },
  {
   "cell_type": "code",
   "execution_count": 2,
   "metadata": {},
   "outputs": [],
   "source": [
    "import os\n",
    "import sys\n",
    "# sys.path.append(os.path.abspath(os.path.join('../scripts')))\n",
    "\n",
    "from kmd_wallet import KmdAlgorand\n",
    "kmd_algo = KmdAlgorand()\n",
    "from algosdk import transaction"
   ]
  },
  {
   "cell_type": "markdown",
   "metadata": {},
   "source": [
    "Wallets"
   ]
  },
  {
   "cell_type": "code",
   "execution_count": 3,
   "metadata": {},
   "outputs": [
    {
     "data": {
      "text/plain": [
       "'3UAEACAE6VAOWMWM26JGZWSLUGRJUV5O3UF6DYSWLK4PYFGRMYJAZGWPV4'"
      ]
     },
     "execution_count": 3,
     "metadata": {},
     "output_type": "execute_result"
    }
   ],
   "source": [
    "DEFAULT_KMD_WALLET_NAME = \"unencrypted-default-wallet\"\n",
    "DEFAULT_KMD_WALLET_PASSWORD = \"\"\n",
    "default_wallet = kmd_algo.create_user_wallet(wallet_name=DEFAULT_KMD_WALLET_NAME, wallet_password=DEFAULT_KMD_WALLET_PASSWORD)\n",
    "\n",
    "\n",
    "user_wallet = kmd_algo.create_user_wallet(wallet_name=\"Elias\", wallet_password=\"4823\")\n",
    "kmd_algo.get_account_address(user_wallet)"
   ]
  },
  {
   "cell_type": "code",
   "execution_count": null,
   "metadata": {},
   "outputs": [],
   "source": [
    "from algosdk.v2client import algod\n",
    "# Specify the node address and token.\n",
    "\n",
    "algod_address = \"http://localhost:4001\"\n",
    "algod_token = \"aaaaaaaaaaaaaaaaaaaaaaaaaaaaaaaaaaaaaaaaaaaaaaaaaaaaaaaaaaaaaaaa\"\n",
    "\n",
    "# Initialize an algod client\n",
    "algod_client = algod.AlgodClient(algod_token=algod_token, algod_address=algod_address)"
   ]
  },
  {
   "cell_type": "code",
   "execution_count": null,
   "metadata": {},
   "outputs": [],
   "source": [
    "def create_asset(sender_address, sender_private_key, asset_url):\n",
    "    sp = algod_client.suggested_params()\n",
    "    txn = transaction.AssetConfigTxn(\n",
    "        sender=sender_address,\n",
    "        sp=sp,\n",
    "        default_frozen=False,\n",
    "        unit_name=\"Certificate\",\n",
    "        asset_name=\"Certificate\",\n",
    "        manager=sender_address,\n",
    "        reserve=sender_address,\n",
    "        freeze=sender_address,\n",
    "        clawback=sender_address,\n",
    "        url=asset_url,\n",
    "        total=1,\n",
    "        decimals=0,\n",
    "    )\n",
    "\n",
    "    # Sign with secret key of creator\n",
    "    stxn = txn.sign(sender_private_key)\n",
    "    # Send the transaction to the network and retrieve the txid.\n",
    "    txid = algod_client.send_transaction(stxn)\n",
    "    print(f\"Sent asset create transaction with txid: {txid}\")\n",
    "    # Wait for the transaction to be confirmed\n",
    "    results = transaction.wait_for_confirmation(algod_client, txid, 4)\n",
    "    print(f\"Result confirmed in round: {results['confirmed-round']}\")\n",
    "    return results"
   ]
  },
  {
   "cell_type": "code",
   "execution_count": null,
   "metadata": {},
   "outputs": [],
   "source": [
    "create_asset(\n",
    "    sender_address=user_account, \n",
    "    sender_private_key=sender_private_key, \n",
    "    asset_url=\"https://ipfs.io/ipfs/QmRkePdXa4F15Pr234imUR1knjDccWDSN4WgPjoivfd3vJ\")"
   ]
  }
 ],
 "metadata": {
  "kernelspec": {
   "display_name": "myenv",
   "language": "python",
   "name": "python3"
  },
  "language_info": {
   "codemirror_mode": {
    "name": "ipython",
    "version": 3
   },
   "file_extension": ".py",
   "mimetype": "text/x-python",
   "name": "python",
   "nbconvert_exporter": "python",
   "pygments_lexer": "ipython3",
   "version": "3.11.7"
  }
 },
 "nbformat": 4,
 "nbformat_minor": 2
}
