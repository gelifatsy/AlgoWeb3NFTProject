{
 "cells": [
  {
   "cell_type": "markdown",
   "metadata": {},
   "source": [
    "### Import packges"
   ]
  },
  {
   "cell_type": "code",
   "execution_count": 6,
   "metadata": {},
   "outputs": [],
   "source": [
    "import os\n",
    "import sys\n",
    "# sys.path.append(os.path.abspath(os.path.join('../scripts')))\n",
    "\n",
    "from kmd_wallet import KmdAlgorand\n",
    "kmd_algo = KmdAlgorand()"
   ]
  },
  {
   "cell_type": "markdown",
   "metadata": {},
   "source": [
    "### create wallets"
   ]
  },
  {
   "cell_type": "code",
   "execution_count": 9,
   "metadata": {},
   "outputs": [
    {
     "data": {
      "text/plain": [
       "'QLB2GWHVRVY56FXMBYHBB7YAXWQY6SVOWGICJFNXUWU3LJE2MCQW34YZSE'"
      ]
     },
     "execution_count": 9,
     "metadata": {},
     "output_type": "execute_result"
    }
   ],
   "source": [
    "DEFAULT_KMD_WALLET_NAME = \"unencrypted-default-wallet\"\n",
    "DEFAULT_KMD_WALLET_PASSWORD = \"\"\n",
    "default_wallet = kmd_algo.create_user_wallet(wallet_name=DEFAULT_KMD_WALLET_NAME, wallet_password=DEFAULT_KMD_WALLET_PASSWORD)\n",
    "\n",
    "\n",
    "user_wallet = kmd_algo.create_user_wallet(wallet_name=\"Elias\", wallet_password=\"4823\")\n",
    "kmd_algo.get_account_address(user_wallet)"
   ]
  },
  {
   "cell_type": "markdown",
   "metadata": {},
   "source": [
    "### Get wallets accounts list"
   ]
  },
  {
   "cell_type": "code",
   "execution_count": 10,
   "metadata": {},
   "outputs": [
    {
     "data": {
      "text/plain": [
       "['NEV4DYHHRHK4I4ZXA4VKBHAHYBIHGBQC56BDEM3T5NGW2BI4VAZ4PYH7FI',\n",
       " 'ZM4R5DA7V7DGKVT2GJW7HSRDOW2IFFX3SMBZCA5IGH4C43GZPAHSGWUYRM',\n",
       " '3JWCKN44SVSN4V3OB7THKRJLNPVRLNR4MX7KH4RHXKCFCIIZR5UGTFMT3M']"
      ]
     },
     "execution_count": 10,
     "metadata": {},
     "output_type": "execute_result"
    }
   ],
   "source": [
    "default_wallet.list_keys()"
   ]
  },
  {
   "cell_type": "code",
   "execution_count": 11,
   "metadata": {},
   "outputs": [
    {
     "data": {
      "text/plain": [
       "['JMTMOM7GPPWXCOESP4AHOBUE3PW6HD7IR43GDDRTCYIEWJV4AGU6AOVTCE',\n",
       " 'QLB2GWHVRVY56FXMBYHBB7YAXWQY6SVOWGICJFNXUWU3LJE2MCQW34YZSE']"
      ]
     },
     "execution_count": 11,
     "metadata": {},
     "output_type": "execute_result"
    }
   ],
   "source": [
    "user_wallet.list_keys()"
   ]
  },
  {
   "cell_type": "markdown",
   "metadata": {},
   "source": [
    "### Check the balance of the accounts"
   ]
  },
  {
   "cell_type": "code",
   "execution_count": 12,
   "metadata": {},
   "outputs": [],
   "source": [
    "default_account = default_wallet.list_keys()[0]\n",
    "user_account = user_wallet.list_keys()[0]"
   ]
  },
  {
   "cell_type": "code",
   "execution_count": 13,
   "metadata": {},
   "outputs": [
    {
     "data": {
      "text/plain": [
       "{'address': 'NEV4DYHHRHK4I4ZXA4VKBHAHYBIHGBQC56BDEM3T5NGW2BI4VAZ4PYH7FI',\n",
       " 'amount': 3999999799997000,\n",
       " 'amount-without-pending-rewards': 3999999799997000,\n",
       " 'apps-local-state': [],\n",
       " 'apps-total-schema': {'num-byte-slice': 0, 'num-uint': 1},\n",
       " 'assets': [],\n",
       " 'created-apps': [{'id': 1013,\n",
       "   'params': {'approval-program': 'CCACAAEmAgZyZXN1bHQEFR98dTEbIhJAADk2GgCABP5r32kSQAAdNhoAgATC8lBmEkAAAQAxGSISMRgiExBEiABeI0MxGSISMRgiExBEiAAtI0MxGSISQAABADEYIhJEI0OKAgEiKIv+i/8IZ4v+i/8IjACJigABIihkjACJigAAIkcCNhoBF4wBNhoCF4wCiwGLAoj/y4wAKYsAFlCwiYoAACKI/86MACmLABZQsIk=',\n",
       "    'clear-state-program': 'CIEAQw==',\n",
       "    'creator': 'NEV4DYHHRHK4I4ZXA4VKBHAHYBIHGBQC56BDEM3T5NGW2BI4VAZ4PYH7FI',\n",
       "    'global-state-schema': {'num-byte-slice': 0, 'num-uint': 1},\n",
       "    'local-state-schema': {'num-byte-slice': 0, 'num-uint': 0}}}],\n",
       " 'created-assets': [],\n",
       " 'min-balance': 228500,\n",
       " 'participation': {'selection-participation-key': '4zA0MN0HE/th0ajzK2V/wCgATtC+rUZOvBlGz2kxy/A=',\n",
       "  'state-proof-key': '+L0YJaGq6bwOcoSWCznsL3Dd0mU0wTZffLMLP0nsY19u84wiU+sG6XsHuwSurq9+9HUk/F4g3PLsSnNkCi54Bg==',\n",
       "  'vote-first-valid': 0,\n",
       "  'vote-key-dilution': 10000,\n",
       "  'vote-last-valid': 30000,\n",
       "  'vote-participation-key': 'DCXFonK2eDPETLjuFR1z6T0FfDVWWHX+DahkiPtfsNw='},\n",
       " 'pending-rewards': 0,\n",
       " 'reward-base': 0,\n",
       " 'rewards': 0,\n",
       " 'round': 13,\n",
       " 'status': 'Online',\n",
       " 'total-apps-opted-in': 0,\n",
       " 'total-assets-opted-in': 0,\n",
       " 'total-created-apps': 1,\n",
       " 'total-created-assets': 0}"
      ]
     },
     "execution_count": 13,
     "metadata": {},
     "output_type": "execute_result"
    }
   ],
   "source": [
    "# default account balance\n",
    "kmd_algo.query_account_information(default_account)"
   ]
  },
  {
   "cell_type": "code",
   "execution_count": 14,
   "metadata": {},
   "outputs": [
    {
     "data": {
      "text/plain": [
       "{'address': 'JMTMOM7GPPWXCOESP4AHOBUE3PW6HD7IR43GDDRTCYIEWJV4AGU6AOVTCE',\n",
       " 'amount': 0,\n",
       " 'amount-without-pending-rewards': 0,\n",
       " 'apps-local-state': [],\n",
       " 'apps-total-schema': {'num-byte-slice': 0, 'num-uint': 0},\n",
       " 'assets': [],\n",
       " 'created-apps': [],\n",
       " 'created-assets': [],\n",
       " 'min-balance': 100000,\n",
       " 'pending-rewards': 0,\n",
       " 'reward-base': 0,\n",
       " 'rewards': 0,\n",
       " 'round': 13,\n",
       " 'status': 'Offline',\n",
       " 'total-apps-opted-in': 0,\n",
       " 'total-assets-opted-in': 0,\n",
       " 'total-created-apps': 0,\n",
       " 'total-created-assets': 0}"
      ]
     },
     "execution_count": 14,
     "metadata": {},
     "output_type": "execute_result"
    }
   ],
   "source": [
    "kmd_algo.query_account_information(user_account)"
   ]
  },
  {
   "cell_type": "markdown",
   "metadata": {},
   "source": [
    "### Transfer algos from default account to user account"
   ]
  },
  {
   "cell_type": "code",
   "execution_count": 16,
   "metadata": {},
   "outputs": [],
   "source": [
    "from algosdk.v2client import algod\n",
    "# Specify the node address and token.\n",
    "\n",
    "algod_address = \"http://localhost:4001\"\n",
    "algod_token = \"aaaaaaaaaaaaaaaaaaaaaaaaaaaaaaaaaaaaaaaaaaaaaaaaaaaaaaaaaaaaaaaa\"\n",
    "\n",
    "# Initialize an algod client\n",
    "algod_client = algod.AlgodClient(algod_token=algod_token, algod_address=algod_address)"
   ]
  },
  {
   "cell_type": "code",
   "execution_count": 17,
   "metadata": {},
   "outputs": [],
   "source": [
    "from algosdk import transaction\n",
    "\n",
    "def send_alogs_transaction(algod_client, receiver_address, sender_address, sender_private_key, amount):\n",
    "\n",
    "    # Construct the transaction\n",
    "    params = algod_client.suggested_params()\n",
    "\n",
    "    txn = transaction.PaymentTxn(\n",
    "        sender=sender_address,\n",
    "        receiver=receiver_address,\n",
    "        amt=amount,\n",
    "        sp=params\n",
    "    )\n",
    "\n",
    "    # Sign the transaction with the sender's private key\n",
    "    signed_txn = txn.sign(sender_private_key)\n",
    "\n",
    "    # Send the transaction to the Algorand network\n",
    "    try:\n",
    "        tx_id = algod_client.send_transaction(signed_txn)\n",
    "        print(\"Transaction ID:\", tx_id)\n",
    "    except Exception as e:\n",
    "        print(\"Transaction failed:\", e)\n"
   ]
  },
  {
   "cell_type": "code",
   "execution_count": 18,
   "metadata": {},
   "outputs": [],
   "source": [
    "sender_private_key = default_wallet.export_key(default_account)"
   ]
  },
  {
   "cell_type": "code",
   "execution_count": 19,
   "metadata": {},
   "outputs": [
    {
     "name": "stdout",
     "output_type": "stream",
     "text": [
      "Transaction ID: IYG7IMGHYLGXJZW2N3SEY2LPELBGLTVKAPDLUFJZVXAFK2PXQDCA\n"
     ]
    }
   ],
   "source": [
    "send_alogs_transaction(\n",
    "    algod_client=algod_client, \n",
    "    receiver_address=user_account, \n",
    "    sender_address=default_account, \n",
    "    sender_private_key=sender_private_key, \n",
    "    amount=1000000)"
   ]
  },
  {
   "cell_type": "markdown",
   "metadata": {},
   "source": [
    "### Check the balance of the user"
   ]
  },
  {
   "cell_type": "code",
   "execution_count": 20,
   "metadata": {},
   "outputs": [
    {
     "data": {
      "text/plain": [
       "{'address': 'JMTMOM7GPPWXCOESP4AHOBUE3PW6HD7IR43GDDRTCYIEWJV4AGU6AOVTCE',\n",
       " 'amount': 1000000,\n",
       " 'amount-without-pending-rewards': 1000000,\n",
       " 'apps-local-state': [],\n",
       " 'apps-total-schema': {'num-byte-slice': 0, 'num-uint': 0},\n",
       " 'assets': [],\n",
       " 'created-apps': [],\n",
       " 'created-assets': [],\n",
       " 'min-balance': 100000,\n",
       " 'pending-rewards': 0,\n",
       " 'reward-base': 0,\n",
       " 'rewards': 0,\n",
       " 'round': 14,\n",
       " 'status': 'Offline',\n",
       " 'total-apps-opted-in': 0,\n",
       " 'total-assets-opted-in': 0,\n",
       " 'total-created-apps': 0,\n",
       " 'total-created-assets': 0}"
      ]
     },
     "execution_count": 20,
     "metadata": {},
     "output_type": "execute_result"
    }
   ],
   "source": [
    "kmd_algo.query_account_information(user_account)"
   ]
  },
  {
   "cell_type": "markdown",
   "metadata": {},
   "source": [
    "### Create asset"
   ]
  },
  {
   "cell_type": "code",
   "execution_count": 48,
   "metadata": {},
   "outputs": [],
   "source": [
    "def create_asset(sender_address, sender_private_key, asset_url):\n",
    "    sp = algod_client.suggested_params()\n",
    "    txn = transaction.AssetConfigTxn(\n",
    "        sender=sender_address,\n",
    "        sp=sp,\n",
    "        default_frozen=False,\n",
    "        unit_name=\"rug\",\n",
    "        asset_name=\"Really Useful Gift\",\n",
    "        manager=sender_address,\n",
    "        reserve=sender_address,\n",
    "        freeze=sender_address,\n",
    "        clawback=sender_address,\n",
    "        url=asset_url,\n",
    "        total=1000,\n",
    "        decimals=0,\n",
    "    )\n",
    "\n",
    "    # Sign with secret key of creator\n",
    "    stxn = txn.sign(sender_private_key)\n",
    "    # Send the transaction to the network and retrieve the txid.\n",
    "    txid = algod_client.send_transaction(stxn)\n",
    "    print(f\"Sent asset create transaction with txid: {txid}\")\n",
    "    # Wait for the transaction to be confirmed\n",
    "    results = transaction.wait_for_confirmation(algod_client, txid, 4)\n",
    "    print(f\"Result confirmed in round: {results['confirmed-round']}\")\n",
    "    return results"
   ]
  },
  {
   "cell_type": "code",
   "execution_count": 50,
   "metadata": {},
   "outputs": [],
   "source": [
    "sender_private_key = user_wallet.export_key(user_account)"
   ]
  },
  {
   "cell_type": "code",
   "execution_count": 51,
   "metadata": {},
   "outputs": [
    {
     "name": "stdout",
     "output_type": "stream",
     "text": [
      "Sent asset create transaction with txid: VC3BEFTNWGAFCNV6CEKELGOWEHCAERRJTUMJRIEPTD6EKWQLGVUQ\n",
      "Result confirmed in round: 36\n"
     ]
    },
    {
     "data": {
      "text/plain": [
       "{'asset-index': 1036,\n",
       " 'confirmed-round': 36,\n",
       " 'pool-error': '',\n",
       " 'txn': {'sig': 'YJmPVw19UkdwuMi5jz9KlUj3x46/Gpfa6IjbMjwPiXfMKFYbHGl8WK5Yc4eXMdbE/LSrYtEoSoTQF2c7fwnuCQ==',\n",
       "  'txn': {'apar': {'an': 'Really Useful Gift',\n",
       "    'au': 'https://path/to/my/asset/details',\n",
       "    'c': '76IMCJF25JN6PRRCRECQ67VK2K4D3XZH7W35J44AM7LO2QBICK5QONKHHY',\n",
       "    'f': '76IMCJF25JN6PRRCRECQ67VK2K4D3XZH7W35J44AM7LO2QBICK5QONKHHY',\n",
       "    'm': '76IMCJF25JN6PRRCRECQ67VK2K4D3XZH7W35J44AM7LO2QBICK5QONKHHY',\n",
       "    'r': '76IMCJF25JN6PRRCRECQ67VK2K4D3XZH7W35J44AM7LO2QBICK5QONKHHY',\n",
       "    't': 1000,\n",
       "    'un': 'rug'},\n",
       "   'fee': 1000,\n",
       "   'fv': 35,\n",
       "   'gen': 'dockernet-v1',\n",
       "   'gh': 'oLccfqHgI2WWmPc2Q/RqC5JO3vUfoBRcRLItBflYebo=',\n",
       "   'lv': 1035,\n",
       "   'snd': '76IMCJF25JN6PRRCRECQ67VK2K4D3XZH7W35J44AM7LO2QBICK5QONKHHY',\n",
       "   'type': 'acfg'}}}"
      ]
     },
     "execution_count": 51,
     "metadata": {},
     "output_type": "execute_result"
    }
   ],
   "source": [
    "create_asset(\n",
    "    sender_address=user_account, \n",
    "    sender_private_key=sender_private_key, \n",
    "    asset_url=\"https://path/to/my/asset/details\")"
   ]
  }
 ],
 "metadata": {
  "kernelspec": {
   "display_name": "tenx_week5",
   "language": "python",
   "name": "python3"
  },
  "language_info": {
   "codemirror_mode": {
    "name": "ipython",
    "version": 3
   },
   "file_extension": ".py",
   "mimetype": "text/x-python",
   "name": "python",
   "nbconvert_exporter": "python",
   "pygments_lexer": "ipython3",
   "version": "3.11.7"
  }
 },
 "nbformat": 4,
 "nbformat_minor": 2
}
